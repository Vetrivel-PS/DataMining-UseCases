{
 "cells": [
  {
   "cell_type": "markdown",
   "metadata": {},
   "source": [
    "# Problem Statement :"
   ]
  },
  {
   "cell_type": "markdown",
   "metadata": {},
   "source": [
    "The <b>Bank Marketing data</b> is related with <b>direct marketing campaigns</b> of a Portuguese banking institution. \n",
    "\n",
    "- The marketing campaigns were based on phone calls. Often, more than one contact to the same client was required, \n",
    "   in order to access if the product (bank term deposit) would be (or not) subscribed. \n",
    "<br>\n",
    "\n",
    "- The <b>classification goal</b> is to <b>predict</b> if the <b>client will subscribe a Term Deposit Taken (variable y)</b>."
   ]
  },
  {
   "cell_type": "markdown",
   "metadata": {},
   "source": [
    "# Predictor / Independent Variables :"
   ]
  },
  {
   "cell_type": "markdown",
   "metadata": {},
   "source": [
    "<b>1. Age :</b> (numeric)\n",
    "<br>\n",
    "\n",
    "<b>2. Job :</b> type of job (categorical: “admin”, “blue-collar”, “entrepreneur”, “housemaid”, “management”, “retired”, “self-employed”, “services”, “student”, “technician”, “unemployed”, “unknown”)\n",
    "<br>\n",
    "\n",
    "<b>3. Marital Status :</b> marital status (categorical: “divorced”, “married”, “single”, “unknown”)\n",
    "<br>\n",
    "\n",
    "<b>4. Education :</b> (categorical: “basic.4y”, “basic.6y”, “basic.9y”, “high.school”, “illiterate”, “professional.course”, “university.degree”, “unknown”)\n",
    "<br>\n",
    "\n",
    "<b>5. Credit Default :</b> has credit in default? (categorical: “no”, “yes”, “unknown”).\n",
    "<br>\n",
    "\n",
    "<b>6. Housing Loan :</b> has housing loan? (categorical: “no”, “yes”, “unknown”)\n",
    "<br>\n",
    "\n",
    "<b>7. Personal Loan :</b> has personal loan? (categorical: “no”, “yes”, “unknown”)\n",
    "<br>"
   ]
  },
  {
   "cell_type": "markdown",
   "metadata": {},
   "source": [
    "# Target / Dependent Variable :"
   ]
  },
  {
   "cell_type": "markdown",
   "metadata": {},
   "source": [
    "<b>1. Term Deposit Taken : </b> has the client subscribed a <b>term deposit ? </b> (binary: <b>“1” means “Yes”, “0” means “No”</b> )"
   ]
  },
  {
   "cell_type": "markdown",
   "metadata": {},
   "source": [
    "# 1.0 Import Python Packages :"
   ]
  },
  {
   "cell_type": "code",
   "execution_count": 1,
   "metadata": {},
   "outputs": [
    {
     "name": "stderr",
     "output_type": "stream",
     "text": [
      "C:\\Users\\LD196YS\\AppData\\Roaming\\Python\\Python37\\site-packages\\sklearn\\externals\\six.py:31: DeprecationWarning: The module is deprecated in version 0.21 and will be removed in version 0.23 since we've dropped support for Python 2.7. Please rely on the official version of six (https://pypi.org/project/six/).\n",
      "  \"(https://pypi.org/project/six/).\", DeprecationWarning)\n"
     ]
    }
   ],
   "source": [
    "# Scientific and Data Manipulation Libraries :\n",
    "\n",
    "import pandas as pd\n",
    "import numpy as np\n",
    "import copy\n",
    "\n",
    "# Visualization Libraries:\n",
    "\n",
    "from matplotlib.pyplot import gcf\n",
    "import matplotlib.pyplot as plt\n",
    "%matplotlib inline\n",
    "import seaborn as sns\n",
    "sns.set()\n",
    "sns.color_palette(\"BrBG\", 7)\n",
    "\n",
    "# https://seaborn.pydata.org/tutorial/color_palettes.html\n",
    "\n",
    "\n",
    "# Classification Model Libraries :\n",
    "\n",
    "from sklearn.tree                    import DecisionTreeClassifier, plot_tree, export_graphviz\n",
    "\n",
    "# from sklearn.svm                   import SVC\n",
    "# from sklearn.naive_bayes           import GaussianNB\n",
    "# from sklearn.neighbors             import KNeighborsClassifier\n",
    "# from sklearn.linear_model          import LogisticRegression\n",
    "# from sklearn.discriminant_analysis import LinearDiscriminantAnalysis\n",
    "# from sklearn.ensemble              import RandomForestClassifier, AdaBoostClassifier, GradientBoostingClassifier\n",
    "\n",
    "# Pre-Processing Libraries:\n",
    "\n",
    "from sklearn.preprocessing         import LabelEncoder, StandardScaler, MinMaxScaler\n",
    "\n",
    "# Metrics Libraries:\n",
    "\n",
    "from sklearn                       import metrics as m\n",
    "from sklearn.model_selection       import ShuffleSplit, StratifiedShuffleSplit, cross_val_score, train_test_split, GridSearchCV\n",
    "from sklearn.metrics import confusion_matrix\n",
    "\n",
    "# Plotting and Visulaizating Libraries :\n",
    "\n",
    "import pydotplus\n",
    "from sklearn.externals.six import StringIO  \n",
    "from IPython.display import Image, SVG, display\n",
    "# from graphviz import Source                              \n",
    "from ipywidgets import interactive\n",
    "\n",
    "# import statsmodels.formula.api as smf\n",
    "# from sklearn.metrics             import roc_curve , accuracy_score , precision_score , recall_score , roc_auc_score , f1_score"
   ]
  },
  {
   "cell_type": "markdown",
   "metadata": {},
   "source": [
    "# 1.1 Setting Location of DataSet (CSV File) :"
   ]
  },
  {
   "cell_type": "code",
   "execution_count": 2,
   "metadata": {},
   "outputs": [
    {
     "name": "stdout",
     "output_type": "stream",
     "text": [
      "C:\\Users\\LD196YS\\Desktop\\10. BITS_Assignment\\2.DM\\Assignment_1\n"
     ]
    }
   ],
   "source": [
    "cd C:/Users/LD196YS/Desktop/10. BITS_Assignment/2.DM/Assignment_1/"
   ]
  },
  {
   "cell_type": "code",
   "execution_count": 3,
   "metadata": {},
   "outputs": [],
   "source": [
    "# Setting Location of Dataset :\n",
    "\n",
    "data_location = \"C:/Users/LD196YS/Desktop/10. BITS_Assignment/2.DM/Assignment_1/Assignment_CHN/\"\n",
    "\n",
    "result_location = \"C:/Users/LD196YS/Desktop/10. BITS_Assignment/2.DM/Assignment_1/Assignment_CHN/Final_Output/\"\n",
    "\n",
    "data_sheet = ['Data']"
   ]
  },
  {
   "cell_type": "markdown",
   "metadata": {},
   "source": [
    "# 1.2 Importing CSV / Excel File into Pandas DataFrame :"
   ]
  },
  {
   "cell_type": "code",
   "execution_count": 4,
   "metadata": {},
   "outputs": [
    {
     "name": "stdout",
     "output_type": "stream",
     "text": [
      "Type : <class 'pandas.core.frame.DataFrame'>\n",
      "Dataframe :        Age            Job Marital Status  Education Credit Default  \\\n",
      "0      30     unemployed        married    primary             no   \n",
      "1      33       services        married  secondary             no   \n",
      "2      35     management         single   tertiary             no   \n",
      "3      30     management        married   tertiary             no   \n",
      "4      59    blue-collar        married  secondary             no   \n",
      "5      35     management         single   tertiary             no   \n",
      "6      36  self-employed        married   tertiary             no   \n",
      "7      39     technician        married  secondary             no   \n",
      "8      41   entrepreneur        married   tertiary             no   \n",
      "9      43       services        married    primary             no   \n",
      "10     39       services        married  secondary             no   \n",
      "11     43         admin.        married  secondary             no   \n",
      "12     36     technician        married   tertiary             no   \n",
      "13     20        student         single  secondary             no   \n",
      "14     31    blue-collar        married  secondary             no   \n",
      "15     40     management        married   tertiary             no   \n",
      "16     56     technician        married  secondary             no   \n",
      "17     37         admin.         single   tertiary             no   \n",
      "18     25    blue-collar         single    primary             no   \n",
      "19     31       services        married  secondary             no   \n",
      "20     38     management       divorced    unknown             no   \n",
      "21     42     management       divorced   tertiary             no   \n",
      "22     44       services         single  secondary             no   \n",
      "23     44   entrepreneur        married  secondary             no   \n",
      "24     26      housemaid        married   tertiary             no   \n",
      "25     41     management        married   tertiary             no   \n",
      "26     55    blue-collar        married    primary             no   \n",
      "27     67        retired        married    unknown             no   \n",
      "28     56  self-employed        married  secondary             no   \n",
      "29     53         admin.        married  secondary             no   \n",
      "...   ...            ...            ...        ...            ...   \n",
      "991    35    blue-collar         single  secondary             no   \n",
      "992    32     technician         single  secondary             no   \n",
      "993    28     technician         single   tertiary             no   \n",
      "994    26     technician         single  secondary             no   \n",
      "995    48     management        married   tertiary             no   \n",
      "996    30    blue-collar         single  secondary             no   \n",
      "997    31   entrepreneur         single   tertiary             no   \n",
      "998    31     management        married   tertiary             no   \n",
      "999    45    blue-collar       divorced    primary             no   \n",
      "1000   38         admin.        married  secondary             no   \n",
      "1001   34     management        married   tertiary             no   \n",
      "1002   42       services        married  secondary             no   \n",
      "1003   60  self-employed        married    primary             no   \n",
      "1004   42            NaN         single  secondary             no   \n",
      "1005   32         admin.         single  secondary             no   \n",
      "1006   42     unemployed       divorced   tertiary             no   \n",
      "1007   33       services        married  secondary             no   \n",
      "1008   42         admin.        married    unknown             no   \n",
      "1009   51     technician        married   tertiary             no   \n",
      "1010   36     technician       divorced  secondary             no   \n",
      "1011   46    blue-collar        married  secondary             no   \n",
      "1012   40    blue-collar        married  secondary             no   \n",
      "1013   49    blue-collar        married  secondary             no   \n",
      "1014   38    blue-collar        married  secondary             no   \n",
      "1015   32       services         single  secondary             no   \n",
      "1016   33       services        married  secondary             no   \n",
      "1017   57  self-employed        married   tertiary            yes   \n",
      "1018   57     technician        married  secondary             no   \n",
      "1019   28    blue-collar        married  secondary             no   \n",
      "1020   44   entrepreneur         single   tertiary             no   \n",
      "\n",
      "     Housing Loan Personal Loan Term Deposit Taken  \n",
      "0              no            no                 no  \n",
      "1             yes           yes                 no  \n",
      "2             yes            no                 no  \n",
      "3             yes           yes                 no  \n",
      "4             yes            no                 no  \n",
      "5              no            no                 no  \n",
      "6             yes            no                 no  \n",
      "7             yes            no                 no  \n",
      "8             yes            no                 no  \n",
      "9             yes           yes                 no  \n",
      "10            yes            no                 no  \n",
      "11            yes            no                 no  \n",
      "12             no            no                 no  \n",
      "13             no            no                yes  \n",
      "14            yes           yes                 no  \n",
      "15             no           yes                 no  \n",
      "16             no            no                 no  \n",
      "17            yes            no                 no  \n",
      "18            yes            no                 no  \n",
      "19             no            no                 no  \n",
      "20            yes            no                 no  \n",
      "21             no            no                 no  \n",
      "22             no            no                 no  \n",
      "23             no            no                 no  \n",
      "24             no            no                 no  \n",
      "25             no            no                 no  \n",
      "26            yes            no                 no  \n",
      "27             no            no                 no  \n",
      "28             no           yes                 no  \n",
      "29             no           yes                 no  \n",
      "...           ...           ...                ...  \n",
      "991           yes            no                 no  \n",
      "992           yes           yes                 no  \n",
      "993           yes            no                 no  \n",
      "994           yes            no                yes  \n",
      "995           yes            no                 no  \n",
      "996            no            no                 no  \n",
      "997            no            no                 no  \n",
      "998           yes            no                 no  \n",
      "999            no            no                 no  \n",
      "1000          yes           NaN                 no  \n",
      "1001          yes            no                 no  \n",
      "1002          yes           yes                 no  \n",
      "1003           no           yes                yes  \n",
      "1004          yes           yes                yes  \n",
      "1005          yes            no                yes  \n",
      "1006           no            no                 no  \n",
      "1007          yes            no                 no  \n",
      "1008          yes           yes                 no  \n",
      "1009           no            no                 no  \n",
      "1010          yes            no                 no  \n",
      "1011          yes            no                yes  \n",
      "1012          yes            no                 no  \n",
      "1013           no            no                 no  \n",
      "1014          yes            no                 no  \n",
      "1015          yes            no                 no  \n",
      "1016          NaN            no                 no  \n",
      "1017          yes           yes                 no  \n",
      "1018           no            no                 no  \n",
      "1019           no            no                 no  \n",
      "1020          yes           yes                 no  \n",
      "\n",
      "[1021 rows x 8 columns]\n"
     ]
    }
   ],
   "source": [
    "# Set Location of DataSet (.xlsx file) :\n",
    "\n",
    "data = pd.read_excel(data_location+'Bank Data for case study assignment.xlsx', data_sheet[0])\n",
    "\n",
    "# Reading Excel (.xlsx) file into Pandas DataFrame :\n",
    "\n",
    "data.head()\n",
    "\n",
    "print(\"Type :\", type(data))\n",
    "\n",
    "print(\"Dataframe : \", data)"
   ]
  },
  {
   "cell_type": "code",
   "execution_count": 5,
   "metadata": {},
   "outputs": [],
   "source": [
    "# Copy of Data Frame / Data Set without Preprocessing :\n",
    "\n",
    "df_1 = copy.copy(data)"
   ]
  },
  {
   "cell_type": "code",
   "execution_count": 6,
   "metadata": {},
   "outputs": [
    {
     "data": {
      "text/html": [
       "<div>\n",
       "<style scoped>\n",
       "    .dataframe tbody tr th:only-of-type {\n",
       "        vertical-align: middle;\n",
       "    }\n",
       "\n",
       "    .dataframe tbody tr th {\n",
       "        vertical-align: top;\n",
       "    }\n",
       "\n",
       "    .dataframe thead th {\n",
       "        text-align: right;\n",
       "    }\n",
       "</style>\n",
       "<table border=\"1\" class=\"dataframe\">\n",
       "  <thead>\n",
       "    <tr style=\"text-align: right;\">\n",
       "      <th></th>\n",
       "      <th>Age</th>\n",
       "      <th>Job</th>\n",
       "      <th>Marital Status</th>\n",
       "      <th>Education</th>\n",
       "      <th>Credit Default</th>\n",
       "      <th>Housing Loan</th>\n",
       "      <th>Personal Loan</th>\n",
       "      <th>Term Deposit Taken</th>\n",
       "    </tr>\n",
       "  </thead>\n",
       "  <tbody>\n",
       "    <tr>\n",
       "      <th>0</th>\n",
       "      <td>30</td>\n",
       "      <td>unemployed</td>\n",
       "      <td>married</td>\n",
       "      <td>primary</td>\n",
       "      <td>no</td>\n",
       "      <td>no</td>\n",
       "      <td>no</td>\n",
       "      <td>no</td>\n",
       "    </tr>\n",
       "    <tr>\n",
       "      <th>1</th>\n",
       "      <td>33</td>\n",
       "      <td>services</td>\n",
       "      <td>married</td>\n",
       "      <td>secondary</td>\n",
       "      <td>no</td>\n",
       "      <td>yes</td>\n",
       "      <td>yes</td>\n",
       "      <td>no</td>\n",
       "    </tr>\n",
       "    <tr>\n",
       "      <th>2</th>\n",
       "      <td>35</td>\n",
       "      <td>management</td>\n",
       "      <td>single</td>\n",
       "      <td>tertiary</td>\n",
       "      <td>no</td>\n",
       "      <td>yes</td>\n",
       "      <td>no</td>\n",
       "      <td>no</td>\n",
       "    </tr>\n",
       "    <tr>\n",
       "      <th>3</th>\n",
       "      <td>30</td>\n",
       "      <td>management</td>\n",
       "      <td>married</td>\n",
       "      <td>tertiary</td>\n",
       "      <td>no</td>\n",
       "      <td>yes</td>\n",
       "      <td>yes</td>\n",
       "      <td>no</td>\n",
       "    </tr>\n",
       "    <tr>\n",
       "      <th>4</th>\n",
       "      <td>59</td>\n",
       "      <td>blue-collar</td>\n",
       "      <td>married</td>\n",
       "      <td>secondary</td>\n",
       "      <td>no</td>\n",
       "      <td>yes</td>\n",
       "      <td>no</td>\n",
       "      <td>no</td>\n",
       "    </tr>\n",
       "  </tbody>\n",
       "</table>\n",
       "</div>"
      ],
      "text/plain": [
       "   Age          Job Marital Status  Education Credit Default Housing Loan  \\\n",
       "0   30   unemployed        married    primary             no           no   \n",
       "1   33     services        married  secondary             no          yes   \n",
       "2   35   management         single   tertiary             no          yes   \n",
       "3   30   management        married   tertiary             no          yes   \n",
       "4   59  blue-collar        married  secondary             no          yes   \n",
       "\n",
       "  Personal Loan Term Deposit Taken  \n",
       "0            no                 no  \n",
       "1           yes                 no  \n",
       "2            no                 no  \n",
       "3           yes                 no  \n",
       "4            no                 no  "
      ]
     },
     "execution_count": 6,
     "metadata": {},
     "output_type": "execute_result"
    }
   ],
   "source": [
    "# View the First 5 rows of DataFrame :\n",
    "\n",
    "data.head()"
   ]
  },
  {
   "cell_type": "code",
   "execution_count": 7,
   "metadata": {},
   "outputs": [
    {
     "data": {
      "text/html": [
       "<div>\n",
       "<style scoped>\n",
       "    .dataframe tbody tr th:only-of-type {\n",
       "        vertical-align: middle;\n",
       "    }\n",
       "\n",
       "    .dataframe tbody tr th {\n",
       "        vertical-align: top;\n",
       "    }\n",
       "\n",
       "    .dataframe thead th {\n",
       "        text-align: right;\n",
       "    }\n",
       "</style>\n",
       "<table border=\"1\" class=\"dataframe\">\n",
       "  <thead>\n",
       "    <tr style=\"text-align: right;\">\n",
       "      <th></th>\n",
       "      <th>Age</th>\n",
       "      <th>Job</th>\n",
       "      <th>Marital Status</th>\n",
       "      <th>Education</th>\n",
       "      <th>Credit Default</th>\n",
       "      <th>Housing Loan</th>\n",
       "      <th>Personal Loan</th>\n",
       "      <th>Term Deposit Taken</th>\n",
       "    </tr>\n",
       "  </thead>\n",
       "  <tbody>\n",
       "    <tr>\n",
       "      <th>1016</th>\n",
       "      <td>33</td>\n",
       "      <td>services</td>\n",
       "      <td>married</td>\n",
       "      <td>secondary</td>\n",
       "      <td>no</td>\n",
       "      <td>NaN</td>\n",
       "      <td>no</td>\n",
       "      <td>no</td>\n",
       "    </tr>\n",
       "    <tr>\n",
       "      <th>1017</th>\n",
       "      <td>57</td>\n",
       "      <td>self-employed</td>\n",
       "      <td>married</td>\n",
       "      <td>tertiary</td>\n",
       "      <td>yes</td>\n",
       "      <td>yes</td>\n",
       "      <td>yes</td>\n",
       "      <td>no</td>\n",
       "    </tr>\n",
       "    <tr>\n",
       "      <th>1018</th>\n",
       "      <td>57</td>\n",
       "      <td>technician</td>\n",
       "      <td>married</td>\n",
       "      <td>secondary</td>\n",
       "      <td>no</td>\n",
       "      <td>no</td>\n",
       "      <td>no</td>\n",
       "      <td>no</td>\n",
       "    </tr>\n",
       "    <tr>\n",
       "      <th>1019</th>\n",
       "      <td>28</td>\n",
       "      <td>blue-collar</td>\n",
       "      <td>married</td>\n",
       "      <td>secondary</td>\n",
       "      <td>no</td>\n",
       "      <td>no</td>\n",
       "      <td>no</td>\n",
       "      <td>no</td>\n",
       "    </tr>\n",
       "    <tr>\n",
       "      <th>1020</th>\n",
       "      <td>44</td>\n",
       "      <td>entrepreneur</td>\n",
       "      <td>single</td>\n",
       "      <td>tertiary</td>\n",
       "      <td>no</td>\n",
       "      <td>yes</td>\n",
       "      <td>yes</td>\n",
       "      <td>no</td>\n",
       "    </tr>\n",
       "  </tbody>\n",
       "</table>\n",
       "</div>"
      ],
      "text/plain": [
       "      Age            Job Marital Status  Education Credit Default  \\\n",
       "1016   33       services        married  secondary             no   \n",
       "1017   57  self-employed        married   tertiary            yes   \n",
       "1018   57     technician        married  secondary             no   \n",
       "1019   28    blue-collar        married  secondary             no   \n",
       "1020   44   entrepreneur         single   tertiary             no   \n",
       "\n",
       "     Housing Loan Personal Loan Term Deposit Taken  \n",
       "1016          NaN            no                 no  \n",
       "1017          yes           yes                 no  \n",
       "1018           no            no                 no  \n",
       "1019           no            no                 no  \n",
       "1020          yes           yes                 no  "
      ]
     },
     "execution_count": 7,
     "metadata": {},
     "output_type": "execute_result"
    }
   ],
   "source": [
    "# View the Last 5 rows of DataFrame :\n",
    "\n",
    "data.tail()"
   ]
  },
  {
   "cell_type": "markdown",
   "metadata": {},
   "source": [
    "# 2.1 Extracting Information on Columns :"
   ]
  },
  {
   "cell_type": "code",
   "execution_count": 8,
   "metadata": {},
   "outputs": [
    {
     "name": "stdout",
     "output_type": "stream",
     "text": [
      "<class 'pandas.core.frame.DataFrame'>\n",
      "RangeIndex: 1021 entries, 0 to 1020\n",
      "Data columns (total 8 columns):\n",
      "Age                   1021 non-null int64\n",
      "Job                   1019 non-null object\n",
      "Marital Status        1020 non-null object\n",
      "Education             1020 non-null object\n",
      "Credit Default        1020 non-null object\n",
      "Housing Loan          1019 non-null object\n",
      "Personal Loan         1019 non-null object\n",
      "Term Deposit Taken    1021 non-null object\n",
      "dtypes: int64(1), object(7)\n",
      "memory usage: 63.9+ KB\n"
     ]
    }
   ],
   "source": [
    "# Prints Information of All Columns :\n",
    "\n",
    "data.info() # data.info(verbose=True) "
   ]
  },
  {
   "cell_type": "code",
   "execution_count": 9,
   "metadata": {},
   "outputs": [],
   "source": [
    "# Prints a Summary of Columns Count and its dtypes but not per column Information :\n",
    "\n",
    "# data.info(verbose=False)"
   ]
  },
  {
   "cell_type": "markdown",
   "metadata": {},
   "source": [
    "# 2.2 Extracting Statistical Information on Numerical Columns :"
   ]
  },
  {
   "cell_type": "code",
   "execution_count": 10,
   "metadata": {},
   "outputs": [
    {
     "data": {
      "text/html": [
       "<div>\n",
       "<style scoped>\n",
       "    .dataframe tbody tr th:only-of-type {\n",
       "        vertical-align: middle;\n",
       "    }\n",
       "\n",
       "    .dataframe tbody tr th {\n",
       "        vertical-align: top;\n",
       "    }\n",
       "\n",
       "    .dataframe thead th {\n",
       "        text-align: right;\n",
       "    }\n",
       "</style>\n",
       "<table border=\"1\" class=\"dataframe\">\n",
       "  <thead>\n",
       "    <tr style=\"text-align: right;\">\n",
       "      <th></th>\n",
       "      <th>Age</th>\n",
       "    </tr>\n",
       "  </thead>\n",
       "  <tbody>\n",
       "    <tr>\n",
       "      <th>count</th>\n",
       "      <td>1021.000000</td>\n",
       "    </tr>\n",
       "    <tr>\n",
       "      <th>mean</th>\n",
       "      <td>41.066601</td>\n",
       "    </tr>\n",
       "    <tr>\n",
       "      <th>std</th>\n",
       "      <td>10.400013</td>\n",
       "    </tr>\n",
       "    <tr>\n",
       "      <th>min</th>\n",
       "      <td>19.000000</td>\n",
       "    </tr>\n",
       "    <tr>\n",
       "      <th>25%</th>\n",
       "      <td>33.000000</td>\n",
       "    </tr>\n",
       "    <tr>\n",
       "      <th>50%</th>\n",
       "      <td>39.000000</td>\n",
       "    </tr>\n",
       "    <tr>\n",
       "      <th>75%</th>\n",
       "      <td>48.000000</td>\n",
       "    </tr>\n",
       "    <tr>\n",
       "      <th>max</th>\n",
       "      <td>84.000000</td>\n",
       "    </tr>\n",
       "  </tbody>\n",
       "</table>\n",
       "</div>"
      ],
      "text/plain": [
       "               Age\n",
       "count  1021.000000\n",
       "mean     41.066601\n",
       "std      10.400013\n",
       "min      19.000000\n",
       "25%      33.000000\n",
       "50%      39.000000\n",
       "75%      48.000000\n",
       "max      84.000000"
      ]
     },
     "execution_count": 10,
     "metadata": {},
     "output_type": "execute_result"
    }
   ],
   "source": [
    "# Shows Descriptive Statistics Values on Numerical Value based Features :\n",
    "\n",
    "data.describe()"
   ]
  },
  {
   "cell_type": "markdown",
   "metadata": {},
   "source": [
    "# 2.3 Finding Correlation between Features and Class for Selection :"
   ]
  },
  {
   "cell_type": "markdown",
   "metadata": {},
   "source": [
    "### 1. Using PairPlot :"
   ]
  },
  {
   "cell_type": "code",
   "execution_count": 11,
   "metadata": {},
   "outputs": [],
   "source": [
    "# sns.pairplot(data)"
   ]
  },
  {
   "cell_type": "markdown",
   "metadata": {},
   "source": [
    "### 2. Correlation Matrix :"
   ]
  },
  {
   "cell_type": "code",
   "execution_count": 12,
   "metadata": {},
   "outputs": [
    {
     "data": {
      "text/html": [
       "<div>\n",
       "<style scoped>\n",
       "    .dataframe tbody tr th:only-of-type {\n",
       "        vertical-align: middle;\n",
       "    }\n",
       "\n",
       "    .dataframe tbody tr th {\n",
       "        vertical-align: top;\n",
       "    }\n",
       "\n",
       "    .dataframe thead th {\n",
       "        text-align: right;\n",
       "    }\n",
       "</style>\n",
       "<table border=\"1\" class=\"dataframe\">\n",
       "  <thead>\n",
       "    <tr style=\"text-align: right;\">\n",
       "      <th></th>\n",
       "      <th>Age</th>\n",
       "    </tr>\n",
       "  </thead>\n",
       "  <tbody>\n",
       "    <tr>\n",
       "      <th>Age</th>\n",
       "      <td>1.0</td>\n",
       "    </tr>\n",
       "  </tbody>\n",
       "</table>\n",
       "</div>"
      ],
      "text/plain": [
       "     Age\n",
       "Age  1.0"
      ]
     },
     "execution_count": 12,
     "metadata": {},
     "output_type": "execute_result"
    }
   ],
   "source": [
    "data.corr()"
   ]
  },
  {
   "cell_type": "markdown",
   "metadata": {},
   "source": [
    "### 3. Heatpot to Visualise Correlation"
   ]
  },
  {
   "cell_type": "code",
   "execution_count": 13,
   "metadata": {},
   "outputs": [
    {
     "data": {
      "text/plain": [
       "<matplotlib.axes._subplots.AxesSubplot at 0x22190032d30>"
      ]
     },
     "execution_count": 13,
     "metadata": {},
     "output_type": "execute_result"
    },
    {
     "data": {
      "image/png": "[encoded data removed]",
      "text/plain": [
       "<Figure size 432x288 with 2 Axes>"
      ]
     },
     "metadata": {
      "needs_background": "light"
     },
     "output_type": "display_data"
    }
   ],
   "source": [
    "sns.heatmap(data.corr())"
   ]
  },
  {
   "cell_type": "markdown",
   "metadata": {},
   "source": [
    "# 3. Exploring Predictor Variables / Features :"
   ]
  },
  {
   "cell_type": "code",
   "execution_count": 14,
   "metadata": {},
   "outputs": [
    {
     "data": {
      "text/plain": [
       "(1021, 8)"
      ]
     },
     "execution_count": 14,
     "metadata": {},
     "output_type": "execute_result"
    }
   ],
   "source": [
    "# View the (Rows,Columns) in DataFrame :\n",
    "\n",
    "data.shape"
   ]
  },
  {
   "cell_type": "markdown",
   "metadata": {},
   "source": [
    "### 3.1 Find and Impute Missing Values : "
   ]
  },
  {
   "cell_type": "code",
   "execution_count": 15,
   "metadata": {},
   "outputs": [
    {
     "data": {
      "text/plain": [
       "Personal Loan         2\n",
       "Housing Loan          2\n",
       "Job                   2\n",
       "Credit Default        1\n",
       "Education             1\n",
       "Marital Status        1\n",
       "Term Deposit Taken    0\n",
       "Age                   0\n",
       "dtype: int64"
      ]
     },
     "execution_count": 15,
     "metadata": {},
     "output_type": "execute_result"
    }
   ],
   "source": [
    "# Sum of Missing Values in Each Column :\n",
    "\n",
    "data.isnull().sum().sort_values(ascending=False)\n",
    "\n",
    "# NOTE : Since there are Few Missing Values in any of the Columns, Imputation is Needed."
   ]
  },
  {
   "cell_type": "code",
   "execution_count": 16,
   "metadata": {},
   "outputs": [
    {
     "name": "stdout",
     "output_type": "stream",
     "text": [
      "Age                   0\n",
      "Job                   0\n",
      "Marital Status        0\n",
      "Education             0\n",
      "Credit Default        0\n",
      "Housing Loan          0\n",
      "Personal Loan         0\n",
      "Term Deposit Taken    0\n",
      "dtype: int64\n"
     ]
    }
   ],
   "source": [
    "# Fill the Missing Values with Forward Fill Technique :\n",
    "\n",
    "data.fillna(method='ffill',inplace=True)\n",
    "\n",
    "# Verify the Missing Values After Fill :\n",
    "\n",
    "print(data.isnull().sum())"
   ]
  },
  {
   "cell_type": "code",
   "execution_count": 17,
   "metadata": {},
   "outputs": [
    {
     "name": "stdout",
     "output_type": "stream",
     "text": [
      "Help on method drop_duplicates in module pandas.core.frame:\n",
      "\n",
      "drop_duplicates(subset=None, keep='first', inplace=False) method of pandas.core.frame.DataFrame instance\n",
      "    Return DataFrame with duplicate rows removed, optionally only\n",
      "    considering certain columns.\n",
      "    \n",
      "    Parameters\n",
      "    ----------\n",
      "    subset : column label or sequence of labels, optional\n",
      "        Only consider certain columns for identifying duplicates, by\n",
      "        default use all of the columns\n",
      "    keep : {'first', 'last', False}, default 'first'\n",
      "        - ``first`` : Drop duplicates except for the first occurrence.\n",
      "        - ``last`` : Drop duplicates except for the last occurrence.\n",
      "        - False : Drop all duplicates.\n",
      "    inplace : boolean, default False\n",
      "        Whether to drop duplicates in place or to return a copy\n",
      "    \n",
      "    Returns\n",
      "    -------\n",
      "    deduplicated : DataFrame\n",
      "\n"
     ]
    }
   ],
   "source": [
    "help (data.drop_duplicates)"
   ]
  },
  {
   "cell_type": "code",
   "execution_count": 18,
   "metadata": {},
   "outputs": [],
   "source": [
    "# dropping ALL duplicte values \n",
    "\n",
    "# data.drop_duplicates(keep = 'first', inplace = True) "
   ]
  },
  {
   "cell_type": "code",
   "execution_count": 19,
   "metadata": {},
   "outputs": [
    {
     "data": {
      "text/plain": [
       "(1021, 8)"
      ]
     },
     "execution_count": 19,
     "metadata": {},
     "output_type": "execute_result"
    }
   ],
   "source": [
    "# View the (Rows,Columns) in DataFrame :\n",
    "\n",
    "data.shape"
   ]
  },
  {
   "cell_type": "markdown",
   "metadata": {},
   "source": [
    "# 4. Finding Unique Values and Total Counts :"
   ]
  },
  {
   "cell_type": "code",
   "execution_count": 20,
   "metadata": {},
   "outputs": [
    {
     "data": {
      "text/plain": [
       "Index(['Age', 'Job', 'Marital Status', 'Education', 'Credit Default',\n",
       "       'Housing Loan', 'Personal Loan', 'Term Deposit Taken'],\n",
       "      dtype='object')"
      ]
     },
     "execution_count": 20,
     "metadata": {},
     "output_type": "execute_result"
    }
   ],
   "source": [
    "data.columns"
   ]
  },
  {
   "cell_type": "markdown",
   "metadata": {},
   "source": [
    "### 4.1 Predictors / Independent Variables :"
   ]
  },
  {
   "cell_type": "code",
   "execution_count": 21,
   "metadata": {},
   "outputs": [],
   "source": [
    "# Binning the Data of Age to make it Categorical :\n",
    "\n",
    "data['Age'] = pd.cut(data['Age'], [10, 20, 30,40, 50, 60, 70, 80, 90], labels=['11-20', '21-30', '31-40', '41-50', '51-60', '61-70', '71-80', '81-90'])"
   ]
  },
  {
   "cell_type": "code",
   "execution_count": 22,
   "metadata": {},
   "outputs": [
    {
     "name": "stdout",
     "output_type": "stream",
     "text": [
      "Age - Unique Values :\n",
      "\n",
      " [21-30, 31-40, 51-60, 41-50, 11-20, 61-70, 71-80, 81-90]\n",
      "Categories (8, object): [11-20 < 21-30 < 31-40 < 41-50 < 51-60 < 61-70 < 71-80 < 81-90] \n",
      "\n",
      "\n",
      "Age - No of Unique Values :\n",
      "\n",
      " 8 \n",
      "\n",
      "\n",
      "Age - Frequency Count Values :\n",
      "\n",
      " AxesSubplot(0.125,0.125;0.775x0.755)\n"
     ]
    },
    {
     "data": {
      "image/png": "[encoded data removed]",
      "text/plain": [
       "<Figure size 432x288 with 1 Axes>"
      ]
     },
     "metadata": {
      "needs_background": "light"
     },
     "output_type": "display_data"
    }
   ],
   "source": [
    "# Unique Age Values :\n",
    "\n",
    "print(\"Age - Unique Values :\\n\\n\",          data['Age'].unique(),'\\n\\n')\n",
    "print(\"Age - No of Unique Values :\\n\\n\",    data['Age'].nunique(),'\\n\\n')\n",
    "# print(\"Age - Frequency Count Values :\\n\\n\", data['Age'].value_counts())\n",
    "print(\"Age - Frequency Count Values :\\n\\n\", data['Age'].value_counts().plot(kind=\"bar\"))\n",
    "plt.xlabel(\"Age Groups\", labelpad=14)\n",
    "plt.ylabel(\"Total Members\", labelpad=14)\n",
    "plt.title(\"Total Members based on Age Groups\", y=1.02);"
   ]
  },
  {
   "cell_type": "code",
   "execution_count": 23,
   "metadata": {},
   "outputs": [
    {
     "name": "stdout",
     "output_type": "stream",
     "text": [
      "Job - Unique Values :\n",
      "\n",
      " ['unemployed' 'services' 'management' 'blue-collar' 'self-employed'\n",
      " 'technician' 'entrepreneur' 'admin.' 'student' 'housemaid' 'retired'\n",
      " 'unknown'] \n",
      "\n",
      "\n",
      "Job - No of Unique Values :\n",
      "\n",
      " 12 \n",
      "\n",
      "\n",
      "Job - Frequency Count Values :\n",
      "\n",
      " AxesSubplot(0.125,0.125;0.775x0.755)\n"
     ]
    },
    {
     "data": {
      "image/png": "[encoded data removed]",
      "text/plain": [
       "<Figure size 432x288 with 1 Axes>"
      ]
     },
     "metadata": {
      "needs_background": "light"
     },
     "output_type": "display_data"
    }
   ],
   "source": [
    "# Unique Job Values :\n",
    "\n",
    "print(\"Job - Unique Values :\\n\\n\",          data['Job'].unique(),'\\n\\n')\n",
    "print(\"Job - No of Unique Values :\\n\\n\",    data['Job'].nunique(),'\\n\\n')\n",
    "print(\"Job - Frequency Count Values :\\n\\n\", data['Job'].value_counts().plot(kind=\"bar\"))\n",
    "plt.xlabel(\"Job Groups\", labelpad=14)\n",
    "plt.ylabel(\"Total Jobs\", labelpad=14)\n",
    "plt.title(\"Total Jobs based on Job Groups\", y=1.02);"
   ]
  },
  {
   "cell_type": "code",
   "execution_count": 24,
   "metadata": {},
   "outputs": [
    {
     "name": "stdout",
     "output_type": "stream",
     "text": [
      "Marital Status - Unique Values :\n",
      "\n",
      " ['married' 'single' 'divorced'] \n",
      "\n",
      "\n",
      "Marital Status - No of Unique Values :\n",
      "\n",
      " 3 \n",
      "\n",
      "\n",
      "Marital Status - Frequency Count Values :\n",
      "\n",
      " AxesSubplot(0.125,0.125;0.775x0.755)\n"
     ]
    },
    {
     "data": {
      "image/png": "[encoded data removed]",
      "text/plain": [
       "<Figure size 432x288 with 1 Axes>"
      ]
     },
     "metadata": {
      "needs_background": "light"
     },
     "output_type": "display_data"
    }
   ],
   "source": [
    "# Unique Marital Status Values :\n",
    "\n",
    "print(\"Marital Status - Unique Values :\\n\\n\",          data['Marital Status'].unique(),'\\n\\n')\n",
    "print(\"Marital Status - No of Unique Values :\\n\\n\",    data['Marital Status'].nunique(),'\\n\\n')\n",
    "print(\"Marital Status - Frequency Count Values :\\n\\n\", data['Marital Status'].value_counts().plot(kind=\"bar\"))\n",
    "plt.xlabel(\"Marital Status\", labelpad=14)\n",
    "plt.ylabel(\"Total Status\", labelpad=14)\n",
    "plt.title(\"Total Status based on Marital Status\", y=1.02);"
   ]
  },
  {
   "cell_type": "code",
   "execution_count": 25,
   "metadata": {},
   "outputs": [
    {
     "name": "stdout",
     "output_type": "stream",
     "text": [
      "Education - Unique Values :\n",
      "\n",
      " ['primary' 'secondary' 'tertiary' 'unknown'] \n",
      "\n",
      "\n",
      "Education - No of Unique Values :\n",
      "\n",
      " 4 \n",
      "\n",
      "\n",
      "Education - Frequency Count Values :\n",
      "\n",
      " AxesSubplot(0.125,0.125;0.775x0.755)\n"
     ]
    },
    {
     "data": {
      "image/png": "[encoded data removed]",
      "text/plain": [
       "<Figure size 432x288 with 1 Axes>"
      ]
     },
     "metadata": {
      "needs_background": "light"
     },
     "output_type": "display_data"
    }
   ],
   "source": [
    "# Unique Education Values :\n",
    "\n",
    "print(\"Education - Unique Values :\\n\\n\",               data['Education'].unique(),'\\n\\n')\n",
    "print(\"Education - No of Unique Values :\\n\\n\",         data['Education'].nunique(),'\\n\\n')\n",
    "print(\"Education - Frequency Count Values :\\n\\n\", data['Education'].value_counts().plot(kind=\"bar\"))\n",
    "plt.xlabel(\"Marital Status\", labelpad=14)\n",
    "plt.ylabel(\"Total Status\", labelpad=14)\n",
    "plt.title(\"Total Status based on Marital Status\", y=1.02);\n",
    "\n",
    "# NOTE : We have Inconsistent 4th Category - 'unknown'."
   ]
  },
  {
   "cell_type": "code",
   "execution_count": 26,
   "metadata": {},
   "outputs": [
    {
     "name": "stdout",
     "output_type": "stream",
     "text": [
      "Credit Default - Unique Values :\n",
      "\n",
      " ['no' 'yes'] \n",
      "\n",
      "\n",
      "Credit Default - No of Unique Values :\n",
      "\n",
      " 2 \n",
      "\n",
      "\n",
      "Credit Default - Frequency Count Values :\n",
      "\n",
      " AxesSubplot(0.125,0.125;0.775x0.755)\n"
     ]
    },
    {
     "data": {
      "image/png": "[encoded data removed]",
      "text/plain": [
       "<Figure size 432x288 with 1 Axes>"
      ]
     },
     "metadata": {
      "needs_background": "light"
     },
     "output_type": "display_data"
    }
   ],
   "source": [
    "# Unique Credit Default Values :\n",
    "\n",
    "print(\"Credit Default - Unique Values :\\n\\n\",          data['Credit Default'].unique(),'\\n\\n')\n",
    "print(\"Credit Default - No of Unique Values :\\n\\n\",    data['Credit Default'].nunique(),'\\n\\n')\n",
    "print(\"Credit Default - Frequency Count Values :\\n\\n\", data['Credit Default'].value_counts().plot(kind=\"bar\"))\n",
    "plt.xlabel(\"Marital Status\", labelpad=14)\n",
    "plt.ylabel(\"Total Status\", labelpad=14)\n",
    "plt.title(\"Total Status based on Marital Status\", y=1.02);"
   ]
  },
  {
   "cell_type": "code",
   "execution_count": 27,
   "metadata": {},
   "outputs": [
    {
     "name": "stdout",
     "output_type": "stream",
     "text": [
      "Housing Loan - Unique Values :\n",
      "\n",
      " ['no' 'yes' 'xxxyy'] \n",
      "\n",
      "\n",
      "Housing Loan - No of Unique Values :\n",
      "\n",
      " 3 \n",
      "\n",
      "\n",
      "Housing Loan - Frequency Count Values :\n",
      "\n",
      " AxesSubplot(0.125,0.125;0.775x0.755)\n"
     ]
    },
    {
     "data": {
      "image/png": "[encoded data removed]",
      "text/plain": [
       "<Figure size 432x288 with 1 Axes>"
      ]
     },
     "metadata": {
      "needs_background": "light"
     },
     "output_type": "display_data"
    }
   ],
   "source": [
    "# Unique Housing Loan Values :\n",
    "\n",
    "print(\"Housing Loan - Unique Values :\\n\\n\",          data['Housing Loan'].unique(),'\\n\\n')\n",
    "print(\"Housing Loan - No of Unique Values :\\n\\n\",    data['Housing Loan'].nunique(),'\\n\\n')\n",
    "print(\"Housing Loan - Frequency Count Values :\\n\\n\", data['Housing Loan'].value_counts().plot(kind=\"bar\"))\n",
    "plt.xlabel(\"Marital Status\", labelpad=14)\n",
    "plt.ylabel(\"Total Status\", labelpad=14)\n",
    "plt.title(\"Total Status based on Marital Status\", y=1.02);\n",
    "\n",
    "# NOTE : We have Inconsistent 3rd Category - 'xxxyy'."
   ]
  },
  {
   "cell_type": "code",
   "execution_count": 28,
   "metadata": {},
   "outputs": [],
   "source": [
    "data['Housing Loan'] = data['Housing Loan'].str.replace('xxxyy','yes')"
   ]
  },
  {
   "cell_type": "code",
   "execution_count": 29,
   "metadata": {},
   "outputs": [
    {
     "name": "stdout",
     "output_type": "stream",
     "text": [
      "Housing Loan - Unique Values :\n",
      "\n",
      " ['no' 'yes'] \n",
      "\n",
      "\n",
      "Housing Loan - No of Unique Values :\n",
      "\n",
      " 2 \n",
      "\n",
      "\n",
      "Housing Loan - Frequency Count Values :\n",
      "\n",
      " AxesSubplot(0.125,0.125;0.775x0.755)\n"
     ]
    },
    {
     "data": {
      "image/png": "[encoded data removed]",
      "text/plain": [
       "<Figure size 432x288 with 1 Axes>"
      ]
     },
     "metadata": {
      "needs_background": "light"
     },
     "output_type": "display_data"
    }
   ],
   "source": [
    "# Unique Housing Loan Values :\n",
    "\n",
    "print(\"Housing Loan - Unique Values :\\n\\n\",          data['Housing Loan'].unique(),'\\n\\n')\n",
    "print(\"Housing Loan - No of Unique Values :\\n\\n\",    data['Housing Loan'].nunique(),'\\n\\n')\n",
    "print(\"Housing Loan - Frequency Count Values :\\n\\n\", data['Housing Loan'].value_counts().plot(kind=\"bar\"))\n",
    "plt.xlabel(\"Marital Status\", labelpad=14)\n",
    "plt.ylabel(\"Total Status\", labelpad=14)\n",
    "plt.title(\"Total Status based on Marital Status\", y=1.02);\n",
    "\n",
    "# NOTE : We have Inconsistent 3rd Category - 'xxxyy' => Replaced with Yes."
   ]
  },
  {
   "cell_type": "code",
   "execution_count": 30,
   "metadata": {},
   "outputs": [
    {
     "name": "stdout",
     "output_type": "stream",
     "text": [
      "Personal Loan - Unique Values :\n",
      "\n",
      " ['no' 'yes'] \n",
      "\n",
      "\n",
      "Personal Loan - No of Unique Values :\n",
      "\n",
      " 2 \n",
      "\n",
      "\n",
      "Personal Loan - Frequency Count Values :\n",
      "\n",
      " AxesSubplot(0.125,0.125;0.775x0.755)\n"
     ]
    },
    {
     "data": {
      "image/png": "[encoded data removed]",
      "text/plain": [
       "<Figure size 432x288 with 1 Axes>"
      ]
     },
     "metadata": {
      "needs_background": "light"
     },
     "output_type": "display_data"
    }
   ],
   "source": [
    "# Unique Personal Loan Values :\n",
    "\n",
    "print(\"Personal Loan - Unique Values :\\n\\n\",       data['Personal Loan'].unique(),'\\n\\n')\n",
    "print(\"Personal Loan - No of Unique Values :\\n\\n\", data['Personal Loan'].nunique(),'\\n\\n')\n",
    "print(\"Personal Loan - Frequency Count Values :\\n\\n\", data['Personal Loan'].value_counts().plot(kind=\"bar\"))\n",
    "plt.xlabel(\"Marital Status\", labelpad=14)\n",
    "plt.ylabel(\"Total Status\", labelpad=14)\n",
    "plt.title(\"Total Status based on Marital Status\", y=1.02);"
   ]
  },
  {
   "cell_type": "markdown",
   "metadata": {},
   "source": [
    "### 4.2. Exploring Target Varaible :"
   ]
  },
  {
   "cell_type": "code",
   "execution_count": 31,
   "metadata": {},
   "outputs": [
    {
     "name": "stdout",
     "output_type": "stream",
     "text": [
      "Term Deposit Taken - Unique Values :\n",
      "\n",
      " ['no' 'yes'] \n",
      "\n",
      "\n",
      "Term Deposit Taken - No of Unique Values :\n",
      "\n",
      " 2 \n",
      "\n",
      "\n",
      "Term Deposit Taken - Frequency Count Values :\n",
      "\n",
      " AxesSubplot(0.125,0.125;0.775x0.755)\n"
     ]
    },
    {
     "data": {
      "image/png": "[encoded data removed]",
      "text/plain": [
       "<Figure size 432x288 with 1 Axes>"
      ]
     },
     "metadata": {
      "needs_background": "light"
     },
     "output_type": "display_data"
    }
   ],
   "source": [
    "# Unique Term Deposit Taken Values :\n",
    "\n",
    "print(\"Term Deposit Taken - Unique Values :\\n\\n\",       data['Term Deposit Taken'].unique(),'\\n\\n')\n",
    "print(\"Term Deposit Taken - No of Unique Values :\\n\\n\", data['Term Deposit Taken'].nunique(),'\\n\\n')\n",
    "print(\"Term Deposit Taken - Frequency Count Values :\\n\\n\", data['Term Deposit Taken'].value_counts().plot(kind=\"bar\"))\n",
    "plt.xlabel(\"Term Deposit Taken\", labelpad=14)\n",
    "plt.ylabel(\"Total Count\", labelpad=14)\n",
    "plt.title(\"Total Count based on Term Deposit Taken\", y=1.02);"
   ]
  },
  {
   "cell_type": "code",
   "execution_count": 32,
   "metadata": {},
   "outputs": [],
   "source": [
    "# for index in data.columns:\n",
    "#     print('-----{}-----'.format(index))\n",
    "#     print(data[index].describe())\n",
    "#     print()"
   ]
  },
  {
   "cell_type": "code",
   "execution_count": 33,
   "metadata": {},
   "outputs": [],
   "source": [
    "# # Cross Tab to display Education stats with respect to y (ie) Target variable :\n",
    "\n",
    "# pd.crosstab(index=data[\"Education\"], columns=data[\"Term Deposit Taken\"])"
   ]
  },
  {
   "cell_type": "code",
   "execution_count": 34,
   "metadata": {},
   "outputs": [],
   "source": [
    "# # Barplot for the Predictor / Independent Variable - job : \n",
    "\n",
    "# sns.countplot(y=\"Job\", data=data)\n",
    "# plt.show()"
   ]
  },
  {
   "cell_type": "code",
   "execution_count": 35,
   "metadata": {},
   "outputs": [],
   "source": [
    "# # Barplot for the Predictor / Independent Variable - marital : \n",
    "\n",
    "# sns.countplot(x=\"marital\", data=data)\n",
    "# plt.show()"
   ]
  },
  {
   "cell_type": "code",
   "execution_count": 36,
   "metadata": {},
   "outputs": [],
   "source": [
    "# # Barplot for the Predictor / Independent Variable - default : \n",
    "\n",
    "# sns.countplot(x=\"default\", data=data)\n",
    "# plt.show()"
   ]
  },
  {
   "cell_type": "code",
   "execution_count": 37,
   "metadata": {},
   "outputs": [],
   "source": [
    "# # Barplot for the Predictor / Independent Variable - housing : \n",
    "\n",
    "# sns.countplot(x=\"housing\", data=data)\n",
    "# plt.show()"
   ]
  },
  {
   "cell_type": "code",
   "execution_count": 38,
   "metadata": {},
   "outputs": [],
   "source": [
    "# # Barplot for the Predictor / Independent Variable - loan : \n",
    "\n",
    "# sns.countplot(x=\"loan\", data=data)\n",
    "# plt.show()"
   ]
  },
  {
   "cell_type": "code",
   "execution_count": 39,
   "metadata": {},
   "outputs": [],
   "source": [
    "# # Barplot for the Predictor / Independent Variable - poutcome : \n",
    "\n",
    "# sns.countplot(x=\"poutcome\", data=data)\n",
    "# plt.show()"
   ]
  },
  {
   "cell_type": "code",
   "execution_count": 40,
   "metadata": {},
   "outputs": [],
   "source": [
    "# # Barplot for the Target / Dependent Variable :\n",
    "\n",
    "# sns.countplot(x='y',data=data, palette='hls')\n",
    "# plt.show()"
   ]
  },
  {
   "cell_type": "code",
   "execution_count": 41,
   "metadata": {},
   "outputs": [],
   "source": [
    "# # Assumption 1 :\n",
    "\n",
    "# - <b>Our prediction will be based on the customer’s job, marital status, whether he(she) has credit in default, whether he(she) has a housing loan, whether he(she) has a personal loan, and the outcome of the previous marketing campaigns. So, we will drop the variables that we do not need.</b>"
   ]
  },
  {
   "cell_type": "code",
   "execution_count": 42,
   "metadata": {},
   "outputs": [],
   "source": [
    "# data_new_2 = data.copy(deep=True)\n",
    "# data.drop(data.columns[[0,3,8,9,10,11,12,13]],axis=1,inplace=True)"
   ]
  },
  {
   "cell_type": "code",
   "execution_count": 43,
   "metadata": {},
   "outputs": [],
   "source": [
    "# # Creating Dummies for Categorical Variables :\n",
    "\n",
    "# data_new = pd.get_dummies(data, columns=['job','marital',\n",
    "#                                          'default',\n",
    "#                                          'housing','loan',\n",
    "#                                          'poutcome'])\n",
    "\n",
    "# # data_new = pd.get_dummies(data, columns=['job','marital',\n",
    "# #                                          'education','default',\n",
    "# #                                          'housing','loan',\n",
    "# #                                          'contact','month',\n",
    "# #                                          'poutcome'])"
   ]
  },
  {
   "cell_type": "markdown",
   "metadata": {},
   "source": [
    "# 5. Back Up / Copy Data Frame :"
   ]
  },
  {
   "cell_type": "code",
   "execution_count": 44,
   "metadata": {},
   "outputs": [
    {
     "data": {
      "text/html": [
       "<div>\n",
       "<style scoped>\n",
       "    .dataframe tbody tr th:only-of-type {\n",
       "        vertical-align: middle;\n",
       "    }\n",
       "\n",
       "    .dataframe tbody tr th {\n",
       "        vertical-align: top;\n",
       "    }\n",
       "\n",
       "    .dataframe thead th {\n",
       "        text-align: right;\n",
       "    }\n",
       "</style>\n",
       "<table border=\"1\" class=\"dataframe\">\n",
       "  <thead>\n",
       "    <tr style=\"text-align: right;\">\n",
       "      <th></th>\n",
       "      <th>Age</th>\n",
       "      <th>Job</th>\n",
       "      <th>Marital Status</th>\n",
       "      <th>Education</th>\n",
       "      <th>Credit Default</th>\n",
       "      <th>Housing Loan</th>\n",
       "      <th>Personal Loan</th>\n",
       "      <th>Term Deposit Taken</th>\n",
       "    </tr>\n",
       "  </thead>\n",
       "  <tbody>\n",
       "    <tr>\n",
       "      <th>0</th>\n",
       "      <td>21-30</td>\n",
       "      <td>unemployed</td>\n",
       "      <td>married</td>\n",
       "      <td>primary</td>\n",
       "      <td>no</td>\n",
       "      <td>no</td>\n",
       "      <td>no</td>\n",
       "      <td>no</td>\n",
       "    </tr>\n",
       "    <tr>\n",
       "      <th>1</th>\n",
       "      <td>31-40</td>\n",
       "      <td>services</td>\n",
       "      <td>married</td>\n",
       "      <td>secondary</td>\n",
       "      <td>no</td>\n",
       "      <td>yes</td>\n",
       "      <td>yes</td>\n",
       "      <td>no</td>\n",
       "    </tr>\n",
       "    <tr>\n",
       "      <th>2</th>\n",
       "      <td>31-40</td>\n",
       "      <td>management</td>\n",
       "      <td>single</td>\n",
       "      <td>tertiary</td>\n",
       "      <td>no</td>\n",
       "      <td>yes</td>\n",
       "      <td>no</td>\n",
       "      <td>no</td>\n",
       "    </tr>\n",
       "    <tr>\n",
       "      <th>3</th>\n",
       "      <td>21-30</td>\n",
       "      <td>management</td>\n",
       "      <td>married</td>\n",
       "      <td>tertiary</td>\n",
       "      <td>no</td>\n",
       "      <td>yes</td>\n",
       "      <td>yes</td>\n",
       "      <td>no</td>\n",
       "    </tr>\n",
       "    <tr>\n",
       "      <th>4</th>\n",
       "      <td>51-60</td>\n",
       "      <td>blue-collar</td>\n",
       "      <td>married</td>\n",
       "      <td>secondary</td>\n",
       "      <td>no</td>\n",
       "      <td>yes</td>\n",
       "      <td>no</td>\n",
       "      <td>no</td>\n",
       "    </tr>\n",
       "  </tbody>\n",
       "</table>\n",
       "</div>"
      ],
      "text/plain": [
       "     Age          Job Marital Status  Education Credit Default Housing Loan  \\\n",
       "0  21-30   unemployed        married    primary             no           no   \n",
       "1  31-40     services        married  secondary             no          yes   \n",
       "2  31-40   management         single   tertiary             no          yes   \n",
       "3  21-30   management        married   tertiary             no          yes   \n",
       "4  51-60  blue-collar        married  secondary             no          yes   \n",
       "\n",
       "  Personal Loan Term Deposit Taken  \n",
       "0            no                 no  \n",
       "1           yes                 no  \n",
       "2            no                 no  \n",
       "3           yes                 no  \n",
       "4            no                 no  "
      ]
     },
     "execution_count": 44,
     "metadata": {},
     "output_type": "execute_result"
    }
   ],
   "source": [
    "data.head()"
   ]
  },
  {
   "cell_type": "code",
   "execution_count": 45,
   "metadata": {},
   "outputs": [],
   "source": [
    "# Copy of Data Frame / Data Set without Preprocessing :\n",
    "\n",
    "df_2 = copy.copy(data)"
   ]
  },
  {
   "cell_type": "code",
   "execution_count": 46,
   "metadata": {},
   "outputs": [
    {
     "data": {
      "text/html": [
       "<div>\n",
       "<style scoped>\n",
       "    .dataframe tbody tr th:only-of-type {\n",
       "        vertical-align: middle;\n",
       "    }\n",
       "\n",
       "    .dataframe tbody tr th {\n",
       "        vertical-align: top;\n",
       "    }\n",
       "\n",
       "    .dataframe thead th {\n",
       "        text-align: right;\n",
       "    }\n",
       "</style>\n",
       "<table border=\"1\" class=\"dataframe\">\n",
       "  <thead>\n",
       "    <tr style=\"text-align: right;\">\n",
       "      <th></th>\n",
       "      <th>Age</th>\n",
       "      <th>Job</th>\n",
       "      <th>Marital Status</th>\n",
       "      <th>Education</th>\n",
       "      <th>Credit Default</th>\n",
       "      <th>Housing Loan</th>\n",
       "      <th>Personal Loan</th>\n",
       "      <th>Term Deposit Taken</th>\n",
       "    </tr>\n",
       "  </thead>\n",
       "  <tbody>\n",
       "    <tr>\n",
       "      <th>0</th>\n",
       "      <td>21-30</td>\n",
       "      <td>unemployed</td>\n",
       "      <td>married</td>\n",
       "      <td>primary</td>\n",
       "      <td>no</td>\n",
       "      <td>no</td>\n",
       "      <td>no</td>\n",
       "      <td>no</td>\n",
       "    </tr>\n",
       "    <tr>\n",
       "      <th>1</th>\n",
       "      <td>31-40</td>\n",
       "      <td>services</td>\n",
       "      <td>married</td>\n",
       "      <td>secondary</td>\n",
       "      <td>no</td>\n",
       "      <td>yes</td>\n",
       "      <td>yes</td>\n",
       "      <td>no</td>\n",
       "    </tr>\n",
       "    <tr>\n",
       "      <th>2</th>\n",
       "      <td>31-40</td>\n",
       "      <td>management</td>\n",
       "      <td>single</td>\n",
       "      <td>tertiary</td>\n",
       "      <td>no</td>\n",
       "      <td>yes</td>\n",
       "      <td>no</td>\n",
       "      <td>no</td>\n",
       "    </tr>\n",
       "    <tr>\n",
       "      <th>3</th>\n",
       "      <td>21-30</td>\n",
       "      <td>management</td>\n",
       "      <td>married</td>\n",
       "      <td>tertiary</td>\n",
       "      <td>no</td>\n",
       "      <td>yes</td>\n",
       "      <td>yes</td>\n",
       "      <td>no</td>\n",
       "    </tr>\n",
       "    <tr>\n",
       "      <th>4</th>\n",
       "      <td>51-60</td>\n",
       "      <td>blue-collar</td>\n",
       "      <td>married</td>\n",
       "      <td>secondary</td>\n",
       "      <td>no</td>\n",
       "      <td>yes</td>\n",
       "      <td>no</td>\n",
       "      <td>no</td>\n",
       "    </tr>\n",
       "  </tbody>\n",
       "</table>\n",
       "</div>"
      ],
      "text/plain": [
       "     Age          Job Marital Status  Education Credit Default Housing Loan  \\\n",
       "0  21-30   unemployed        married    primary             no           no   \n",
       "1  31-40     services        married  secondary             no          yes   \n",
       "2  31-40   management         single   tertiary             no          yes   \n",
       "3  21-30   management        married   tertiary             no          yes   \n",
       "4  51-60  blue-collar        married  secondary             no          yes   \n",
       "\n",
       "  Personal Loan Term Deposit Taken  \n",
       "0            no                 no  \n",
       "1           yes                 no  \n",
       "2            no                 no  \n",
       "3           yes                 no  \n",
       "4            no                 no  "
      ]
     },
     "execution_count": 46,
     "metadata": {},
     "output_type": "execute_result"
    }
   ],
   "source": [
    "df_2.head()"
   ]
  },
  {
   "cell_type": "markdown",
   "metadata": {},
   "source": [
    "# 6. Label Encode the Variables :"
   ]
  },
  {
   "cell_type": "markdown",
   "metadata": {},
   "source": [
    "### 6.1 Converting Object Type to Integer using One-Hot Encoding :"
   ]
  },
  {
   "cell_type": "code",
   "execution_count": 47,
   "metadata": {},
   "outputs": [
    {
     "data": {
      "text/plain": [
       "Age                   category\n",
       "Job                     object\n",
       "Marital Status          object\n",
       "Education               object\n",
       "Credit Default          object\n",
       "Housing Loan            object\n",
       "Personal Loan           object\n",
       "Term Deposit Taken      object\n",
       "dtype: object"
      ]
     },
     "execution_count": 47,
     "metadata": {},
     "output_type": "execute_result"
    }
   ],
   "source": [
    "# Fetching Data Type of all Columns :\n",
    "\n",
    "data.dtypes"
   ]
  },
  {
   "cell_type": "code",
   "execution_count": 48,
   "metadata": {},
   "outputs": [],
   "source": [
    "labelencoder = LabelEncoder()"
   ]
  },
  {
   "cell_type": "code",
   "execution_count": 49,
   "metadata": {},
   "outputs": [],
   "source": [
    "df_2.iloc[:,0] = labelencoder.fit_transform(df_2.iloc[:,0])\n",
    "df_2.iloc[:,1] = labelencoder.fit_transform(df_2.iloc[:,1])\n",
    "df_2.iloc[:,2] = labelencoder.fit_transform(df_2.iloc[:,2])\n",
    "df_2.iloc[:,3] = labelencoder.fit_transform(df_2.iloc[:,3])\n",
    "df_2.iloc[:,4] = labelencoder.fit_transform(df_2.iloc[:,4])\n",
    "df_2.iloc[:,5] = labelencoder.fit_transform(df_2.iloc[:,5])\n",
    "df_2.iloc[:,6] = labelencoder.fit_transform(df_2.iloc[:,6])\n",
    "df_2.iloc[:,7] = labelencoder.fit_transform(df_2.iloc[:,7])"
   ]
  },
  {
   "cell_type": "code",
   "execution_count": 50,
   "metadata": {},
   "outputs": [],
   "source": [
    "# # Coverting Target Variable / Column into Binary Format :\n",
    "\n",
    "# df_2[\"Term Deposit Taken\"].replace(('yes', 'no'), (1, 0), inplace=True)"
   ]
  },
  {
   "cell_type": "code",
   "execution_count": 51,
   "metadata": {},
   "outputs": [
    {
     "data": {
      "text/plain": [
       "Age                   int32\n",
       "Job                   int32\n",
       "Marital Status        int32\n",
       "Education             int32\n",
       "Credit Default        int32\n",
       "Housing Loan          int32\n",
       "Personal Loan         int32\n",
       "Term Deposit Taken    int32\n",
       "dtype: object"
      ]
     },
     "execution_count": 51,
     "metadata": {},
     "output_type": "execute_result"
    }
   ],
   "source": [
    "# Successfully converted Object data into  Integer data types\n",
    "\n",
    "df_2.dtypes"
   ]
  },
  {
   "cell_type": "code",
   "execution_count": 52,
   "metadata": {},
   "outputs": [
    {
     "data": {
      "text/html": [
       "<div>\n",
       "<style scoped>\n",
       "    .dataframe tbody tr th:only-of-type {\n",
       "        vertical-align: middle;\n",
       "    }\n",
       "\n",
       "    .dataframe tbody tr th {\n",
       "        vertical-align: top;\n",
       "    }\n",
       "\n",
       "    .dataframe thead th {\n",
       "        text-align: right;\n",
       "    }\n",
       "</style>\n",
       "<table border=\"1\" class=\"dataframe\">\n",
       "  <thead>\n",
       "    <tr style=\"text-align: right;\">\n",
       "      <th></th>\n",
       "      <th>Age</th>\n",
       "      <th>Job</th>\n",
       "      <th>Marital Status</th>\n",
       "      <th>Education</th>\n",
       "      <th>Credit Default</th>\n",
       "      <th>Housing Loan</th>\n",
       "      <th>Personal Loan</th>\n",
       "      <th>Term Deposit Taken</th>\n",
       "    </tr>\n",
       "  </thead>\n",
       "  <tbody>\n",
       "    <tr>\n",
       "      <th>0</th>\n",
       "      <td>1</td>\n",
       "      <td>10</td>\n",
       "      <td>1</td>\n",
       "      <td>0</td>\n",
       "      <td>0</td>\n",
       "      <td>0</td>\n",
       "      <td>0</td>\n",
       "      <td>0</td>\n",
       "    </tr>\n",
       "    <tr>\n",
       "      <th>1</th>\n",
       "      <td>2</td>\n",
       "      <td>7</td>\n",
       "      <td>1</td>\n",
       "      <td>1</td>\n",
       "      <td>0</td>\n",
       "      <td>1</td>\n",
       "      <td>1</td>\n",
       "      <td>0</td>\n",
       "    </tr>\n",
       "    <tr>\n",
       "      <th>2</th>\n",
       "      <td>2</td>\n",
       "      <td>4</td>\n",
       "      <td>2</td>\n",
       "      <td>2</td>\n",
       "      <td>0</td>\n",
       "      <td>1</td>\n",
       "      <td>0</td>\n",
       "      <td>0</td>\n",
       "    </tr>\n",
       "    <tr>\n",
       "      <th>3</th>\n",
       "      <td>1</td>\n",
       "      <td>4</td>\n",
       "      <td>1</td>\n",
       "      <td>2</td>\n",
       "      <td>0</td>\n",
       "      <td>1</td>\n",
       "      <td>1</td>\n",
       "      <td>0</td>\n",
       "    </tr>\n",
       "    <tr>\n",
       "      <th>4</th>\n",
       "      <td>4</td>\n",
       "      <td>1</td>\n",
       "      <td>1</td>\n",
       "      <td>1</td>\n",
       "      <td>0</td>\n",
       "      <td>1</td>\n",
       "      <td>0</td>\n",
       "      <td>0</td>\n",
       "    </tr>\n",
       "  </tbody>\n",
       "</table>\n",
       "</div>"
      ],
      "text/plain": [
       "   Age  Job  Marital Status  Education  Credit Default  Housing Loan  \\\n",
       "0    1   10               1          0               0             0   \n",
       "1    2    7               1          1               0             1   \n",
       "2    2    4               2          2               0             1   \n",
       "3    1    4               1          2               0             1   \n",
       "4    4    1               1          1               0             1   \n",
       "\n",
       "   Personal Loan  Term Deposit Taken  \n",
       "0              0                   0  \n",
       "1              1                   0  \n",
       "2              0                   0  \n",
       "3              1                   0  \n",
       "4              0                   0  "
      ]
     },
     "execution_count": 52,
     "metadata": {},
     "output_type": "execute_result"
    }
   ],
   "source": [
    "df_2.head()"
   ]
  },
  {
   "cell_type": "markdown",
   "metadata": {},
   "source": [
    "### 6.2 Classifiers : \n",
    "\n",
    "<br>\n",
    "1. CART Decision Tree Classifier\n",
    "<br>\n",
    "<br>\n",
    "2. ID3 Decision Tree Classifier"
   ]
  },
  {
   "cell_type": "code",
   "execution_count": 53,
   "metadata": {},
   "outputs": [],
   "source": [
    "# help(DecisionTreeClassifier())"
   ]
  },
  {
   "cell_type": "code",
   "execution_count": 54,
   "metadata": {},
   "outputs": [
    {
     "data": {
      "text/plain": [
       "{'1. CART Decision Tree Classifier': DecisionTreeClassifier(class_weight=None, criterion='gini', max_depth=3,\n",
       "                        max_features=None, max_leaf_nodes=None,\n",
       "                        min_impurity_decrease=0.0, min_impurity_split=None,\n",
       "                        min_samples_leaf=1, min_samples_split=2,\n",
       "                        min_weight_fraction_leaf=0.0, presort=False,\n",
       "                        random_state=None, splitter='best'),\n",
       " '2. ID3 Decision Tree Classifier': DecisionTreeClassifier(class_weight=None, criterion='entropy', max_depth=3,\n",
       "                        max_features=None, max_leaf_nodes=None,\n",
       "                        min_impurity_decrease=0.0, min_impurity_split=None,\n",
       "                        min_samples_leaf=1, min_samples_split=2,\n",
       "                        min_weight_fraction_leaf=0.0, presort=False,\n",
       "                        random_state=None, splitter='best')}"
      ]
     },
     "metadata": {},
     "output_type": "display_data"
    }
   ],
   "source": [
    "# Creating Dictionary with Classifiers :\n",
    "\n",
    "classifiers = {\n",
    "               '1. CART Decision Tree Classifier': DecisionTreeClassifier(criterion='gini', max_depth=3),\n",
    "               '2. ID3 Decision Tree Classifier': DecisionTreeClassifier(criterion='entropy', max_depth=3)\n",
    "               }\n",
    "display(classifiers)\n",
    "\n",
    "# '1. Decision Tree Classifier': DecisionTreeClassifier(criterion='gini', class_weight=\"balanced\",max_depth=6,max_leaf_nodes=20,presort =True,random_state=10),\n",
    "# '2. Decision Tree Classifier': DecisionTreeClassifier(criterion='entropy' , class_weight=\"balanced\",max_depth=6,max_leaf_nodes=20,presort =True,random_state=10)"
   ]
  },
  {
   "cell_type": "code",
   "execution_count": 55,
   "metadata": {},
   "outputs": [
    {
     "data": {
      "text/plain": [
       "(1021, 8)"
      ]
     },
     "execution_count": 55,
     "metadata": {},
     "output_type": "execute_result"
    }
   ],
   "source": [
    "# View the (Rows,Columns) in DataFrame :\n",
    "# Due to One Hot Encoding Increase in the Number of Columns :\n",
    "\n",
    "df_2.shape"
   ]
  },
  {
   "cell_type": "markdown",
   "metadata": {},
   "source": [
    "# 7. Splitting Predictor and Target Variables into X and y : "
   ]
  },
  {
   "cell_type": "code",
   "execution_count": 56,
   "metadata": {},
   "outputs": [
    {
     "data": {
      "text/plain": [
       "Index(['Age', 'Job', 'Marital Status', 'Education', 'Credit Default',\n",
       "       'Housing Loan', 'Personal Loan', 'Term Deposit Taken'],\n",
       "      dtype='object')"
      ]
     },
     "metadata": {},
     "output_type": "display_data"
    },
    {
     "data": {
      "text/plain": [
       "'Predictors : '"
      ]
     },
     "metadata": {},
     "output_type": "display_data"
    },
    {
     "data": {
      "text/html": [
       "<div>\n",
       "<style scoped>\n",
       "    .dataframe tbody tr th:only-of-type {\n",
       "        vertical-align: middle;\n",
       "    }\n",
       "\n",
       "    .dataframe tbody tr th {\n",
       "        vertical-align: top;\n",
       "    }\n",
       "\n",
       "    .dataframe thead th {\n",
       "        text-align: right;\n",
       "    }\n",
       "</style>\n",
       "<table border=\"1\" class=\"dataframe\">\n",
       "  <thead>\n",
       "    <tr style=\"text-align: right;\">\n",
       "      <th></th>\n",
       "      <th>Age</th>\n",
       "      <th>Job</th>\n",
       "      <th>Marital Status</th>\n",
       "      <th>Education</th>\n",
       "      <th>Credit Default</th>\n",
       "      <th>Housing Loan</th>\n",
       "      <th>Personal Loan</th>\n",
       "    </tr>\n",
       "  </thead>\n",
       "  <tbody>\n",
       "    <tr>\n",
       "      <th>0</th>\n",
       "      <td>1</td>\n",
       "      <td>10</td>\n",
       "      <td>1</td>\n",
       "      <td>0</td>\n",
       "      <td>0</td>\n",
       "      <td>0</td>\n",
       "      <td>0</td>\n",
       "    </tr>\n",
       "    <tr>\n",
       "      <th>1</th>\n",
       "      <td>2</td>\n",
       "      <td>7</td>\n",
       "      <td>1</td>\n",
       "      <td>1</td>\n",
       "      <td>0</td>\n",
       "      <td>1</td>\n",
       "      <td>1</td>\n",
       "    </tr>\n",
       "    <tr>\n",
       "      <th>2</th>\n",
       "      <td>2</td>\n",
       "      <td>4</td>\n",
       "      <td>2</td>\n",
       "      <td>2</td>\n",
       "      <td>0</td>\n",
       "      <td>1</td>\n",
       "      <td>0</td>\n",
       "    </tr>\n",
       "    <tr>\n",
       "      <th>3</th>\n",
       "      <td>1</td>\n",
       "      <td>4</td>\n",
       "      <td>1</td>\n",
       "      <td>2</td>\n",
       "      <td>0</td>\n",
       "      <td>1</td>\n",
       "      <td>1</td>\n",
       "    </tr>\n",
       "    <tr>\n",
       "      <th>4</th>\n",
       "      <td>4</td>\n",
       "      <td>1</td>\n",
       "      <td>1</td>\n",
       "      <td>1</td>\n",
       "      <td>0</td>\n",
       "      <td>1</td>\n",
       "      <td>0</td>\n",
       "    </tr>\n",
       "  </tbody>\n",
       "</table>\n",
       "</div>"
      ],
      "text/plain": [
       "   Age  Job  Marital Status  Education  Credit Default  Housing Loan  \\\n",
       "0    1   10               1          0               0             0   \n",
       "1    2    7               1          1               0             1   \n",
       "2    2    4               2          2               0             1   \n",
       "3    1    4               1          2               0             1   \n",
       "4    4    1               1          1               0             1   \n",
       "\n",
       "   Personal Loan  \n",
       "0              0  \n",
       "1              1  \n",
       "2              0  \n",
       "3              1  \n",
       "4              0  "
      ]
     },
     "metadata": {},
     "output_type": "display_data"
    },
    {
     "data": {
      "text/plain": [
       "'Target : '"
      ]
     },
     "metadata": {},
     "output_type": "display_data"
    },
    {
     "data": {
      "text/html": [
       "<div>\n",
       "<style scoped>\n",
       "    .dataframe tbody tr th:only-of-type {\n",
       "        vertical-align: middle;\n",
       "    }\n",
       "\n",
       "    .dataframe tbody tr th {\n",
       "        vertical-align: top;\n",
       "    }\n",
       "\n",
       "    .dataframe thead th {\n",
       "        text-align: right;\n",
       "    }\n",
       "</style>\n",
       "<table border=\"1\" class=\"dataframe\">\n",
       "  <thead>\n",
       "    <tr style=\"text-align: right;\">\n",
       "      <th></th>\n",
       "      <th>Term Deposit Taken</th>\n",
       "    </tr>\n",
       "  </thead>\n",
       "  <tbody>\n",
       "    <tr>\n",
       "      <th>0</th>\n",
       "      <td>0</td>\n",
       "    </tr>\n",
       "    <tr>\n",
       "      <th>1</th>\n",
       "      <td>0</td>\n",
       "    </tr>\n",
       "    <tr>\n",
       "      <th>2</th>\n",
       "      <td>0</td>\n",
       "    </tr>\n",
       "    <tr>\n",
       "      <th>3</th>\n",
       "      <td>0</td>\n",
       "    </tr>\n",
       "    <tr>\n",
       "      <th>4</th>\n",
       "      <td>0</td>\n",
       "    </tr>\n",
       "  </tbody>\n",
       "</table>\n",
       "</div>"
      ],
      "text/plain": [
       "   Term Deposit Taken\n",
       "0                   0\n",
       "1                   0\n",
       "2                   0\n",
       "3                   0\n",
       "4                   0"
      ]
     },
     "metadata": {},
     "output_type": "display_data"
    }
   ],
   "source": [
    "# Seperating Predictor and Target Columns into X and y Respectively :\n",
    "\n",
    "# Split dataset in Predictors/Features/Independent Variables and Target/Dependent variable :\n",
    "\n",
    "display(data.columns)\n",
    "\n",
    "predictors = ['Age', 'Job', 'Marital Status', 'Education', 'Credit Default','Housing Loan', 'Personal Loan']\n",
    "\n",
    "# Method 1 - For SMALL Dataset :\n",
    "\n",
    "data_X = df_2[['Age', 'Job', 'Marital Status', 'Education', 'Credit Default','Housing Loan', 'Personal Loan']]\n",
    "data_y = pd.DataFrame(df_2['Term Deposit Taken'])\n",
    "\n",
    "# Method 2 - For LARGE Dataset :\n",
    "\n",
    "# data_X = df_2.drop(['Term Deposit Taken'], axis=1)\n",
    "# data_y = pd.DataFrame(df_2['Term Deposit Taken'])\n",
    "\n",
    "display(\"Predictors : \",data_X.head())\n",
    "display(\"Target : \",data_y.head())"
   ]
  },
  {
   "cell_type": "code",
   "execution_count": 57,
   "metadata": {},
   "outputs": [],
   "source": [
    "# Log Columns Headings :\n",
    "\n",
    "log_cols = [\"Classifier\", \"Accuracy\",\"Precision\",\"Recall\",\"F1\",\"ROC_AUC\",\"CV_2_Fold\",\"CV_5_Fold\",\"CV_10_Fold\",\"CV_20_Fold\"]\n",
    "# \n",
    "log = pd.DataFrame(columns=log_cols)\n",
    "\n",
    "# Metric Columns Headings :\n",
    "\n",
    "# metrics_cols = [\"Precision Score\",\"Recall Score\",\"F1-Score\",\"roc-ROC_AUC_Score\"]\n",
    "# metric = pd.DataFrame(columns=metrics_cols)"
   ]
  },
  {
   "cell_type": "markdown",
   "metadata": {},
   "source": [
    "# 8. Splitting Training and Test Data and Applying Classification Models :"
   ]
  },
  {
   "cell_type": "markdown",
   "metadata": {},
   "source": [
    "# 9. Standardizing, Fitting, Predicting and Scoring the Data using all Classifiers along with Confusion Matrix :"
   ]
  },
  {
   "cell_type": "code",
   "execution_count": 58,
   "metadata": {},
   "outputs": [
    {
     "data": {
      "text/plain": [
       "'C:\\\\Users\\\\LD196YS\\\\Desktop\\\\10. BITS_Assignment\\\\2.DM\\\\Assignment_1'"
      ]
     },
     "execution_count": 58,
     "metadata": {},
     "output_type": "execute_result"
    }
   ],
   "source": [
    "pwd"
   ]
  },
  {
   "cell_type": "code",
   "execution_count": 59,
   "metadata": {},
   "outputs": [
    {
     "name": "stdout",
     "output_type": "stream",
     "text": [
      "1. CART Decision Tree Classifier\n"
     ]
    },
    {
     "data": {
      "image/png": "[encoded data removed]",
      "text/plain": [
       "<Figure size 432x288 with 1 Axes>"
      ]
     },
     "metadata": {
      "needs_background": "light"
     },
     "output_type": "display_data"
    },
    {
     "data": {
      "image/png": "[encoded data removed]",
      "text/plain": [
       "<Figure size 432x288 with 2 Axes>"
      ]
     },
     "metadata": {},
     "output_type": "display_data"
    },
    {
     "name": "stdout",
     "output_type": "stream",
     "text": [
      "(714, 1)\n",
      "(714,)\n",
      "1. CART Decision Tree Classifier\n"
     ]
    },
    {
     "data": {
      "image/png": "[encoded data removed]",
      "text/plain": [
       "<Figure size 432x288 with 1 Axes>"
      ]
     },
     "metadata": {},
     "output_type": "display_data"
    },
    {
     "data": {
      "image/png": "[encoded data removed]",
      "text/plain": [
       "<Figure size 432x288 with 2 Axes>"
      ]
     },
     "metadata": {},
     "output_type": "display_data"
    },
    {
     "name": "stdout",
     "output_type": "stream",
     "text": [
      "(714, 1)\n",
      "(714,)\n",
      "2. ID3 Decision Tree Classifier\n"
     ]
    },
    {
     "data": {
      "image/png": "[encoded data removed]",
      "text/plain": [
       "<Figure size 432x288 with 1 Axes>"
      ]
     },
     "metadata": {},
     "output_type": "display_data"
    },
    {
     "data": {
      "image/png": "[encoded data removed]",
      "text/plain": [
       "<Figure size 432x288 with 2 Axes>"
      ]
     },
     "metadata": {},
     "output_type": "display_data"
    },
    {
     "name": "stdout",
     "output_type": "stream",
     "text": [
      "(714, 1)\n",
      "(714,)\n",
      "2. ID3 Decision Tree Classifier\n"
     ]
    },
    {
     "data": {
      "image/png": "[encoded data removed]",
      "text/plain": [
       "<Figure size 432x288 with 1 Axes>"
      ]
     },
     "metadata": {},
     "output_type": "display_data"
    },
    {
     "data": {
      "image/png": "[encoded data removed]",
      "text/plain": [
       "<Figure size 432x288 with 2 Axes>"
      ]
     },
     "metadata": {},
     "output_type": "display_data"
    },
    {
     "name": "stdout",
     "output_type": "stream",
     "text": [
      "(714, 1)\n",
      "(714,)\n"
     ]
    }
   ],
   "source": [
    "import warnings\n",
    "warnings.filterwarnings('ignore')\n",
    "\n",
    "rs = StratifiedShuffleSplit(n_splits=2, test_size=0.3,random_state=2)\n",
    "rs.get_n_splits(data_X,data_y)\n",
    "\n",
    "confusionn_matrix = None\n",
    "\n",
    "for Name,classify in classifiers.items():\n",
    "    for train_index, test_index in rs.split(data_X,data_y):\n",
    "        \n",
    "        print(Name)\n",
    "        \n",
    "        # print(\"TRAIN:\", train_index, \"TEST:\", test_index)\n",
    "        \n",
    "        # Splitting Training and Testing Data :\n",
    "        \n",
    "        X_train,X_test = data_X.iloc[train_index], data_X.iloc[test_index]\n",
    "        y_train,y_test = data_y.iloc[train_index], data_y.iloc[test_index]\n",
    "                              \n",
    "        # Standardizing Features :\n",
    "        \n",
    "        sc_X    = StandardScaler()\n",
    "        X_train = sc_X.fit_transform(X_train)\n",
    "        X_test  = sc_X.transform(X_test)\n",
    "        \n",
    "        # Normalizing Features :\n",
    "        \n",
    "#         Mn_Mx_X = MinMaxScaler()\n",
    "#         X_train = Mn_Mx_X.fit_transform(X_train)\n",
    "#         X_test =  Mn_Mx_X.transform(X_test)\n",
    "        \n",
    "        # Fitting of Train Data and Predicting with Test Data :\n",
    "        \n",
    "        cls   = classify\n",
    "        cls   = cls.fit(X_train,y_train)\n",
    "        \n",
    "        # Plotting and Visualizing the Decision Tree :\n",
    "        \n",
    "        plot_tree(cls)\n",
    "        fig = gcf()\n",
    "        fig.savefig(Name+'tree.jpg')\n",
    "        plt.show() \n",
    "#         dot_data = StringIO()\n",
    "#         export_graphviz(cls, out_file=dot_data,  \n",
    "#                         filled=True, rounded=True,\n",
    "#                         special_characters=True, feature_names = predictors,class_names=['0','1'])\n",
    "#         graph = pydotplus.graph_from_dot_data(dot_data.getvalue())  \n",
    "#         graph.write_png('Term Deposit.png')\n",
    "#         Image(graph.create_png())\n",
    "        \n",
    "        y_out = cls.predict(X_test)\n",
    "        \n",
    "        # Calculating Accuracy, Precision, Recall, ROC_AUC and F1 Scores :\n",
    "        \n",
    "        accuracy  = m.accuracy_score(y_test,y_out)\n",
    "        precision = m.precision_score(y_test,y_out)\n",
    "        recall    = m.recall_score(y_test,y_out)\n",
    "        roc_auc   = m.roc_auc_score(y_out,y_test)\n",
    "        f1_score  = m.f1_score(y_test,y_out)\n",
    "        confusionn_matrix = confusion_matrix(y_test, y_out)\n",
    "        \n",
    "#         print(\"Confusion Matrix : \", confusionn_matrix)\n",
    "        \n",
    "        \n",
    "        sns.set(font_scale=1.4)#for label size\n",
    "        sns.heatmap(confusionn_matrix, annot=True,fmt='g')# font size\n",
    "        plt.show() \n",
    "        # Calculating Cross-Validation AUC Score :\n",
    "        \n",
    "        print(y_train.shape)\n",
    "        print(y_train['Term Deposit Taken'].shape)\n",
    "        \n",
    "        cross_val_score_2_fold  = cross_val_score(classify, X_train, y_train['Term Deposit Taken'], cv=2, scoring='roc_auc').mean()\n",
    "        cross_val_score_5_fold  = cross_val_score(classify, X_train, y_train['Term Deposit Taken'], cv=5, scoring='roc_auc').mean()\n",
    "        cross_val_score_10_fold = cross_val_score(classify, X_train, y_train['Term Deposit Taken'], cv=10, scoring='roc_auc').mean()\n",
    "        cross_val_score_20_fold = cross_val_score(classify, X_train, y_train['Term Deposit Taken'], cv=20, scoring='roc_auc').mean()\n",
    "                \n",
    "        # Classification Report for All Classification Models :\n",
    "        \n",
    "        log_entry = pd.DataFrame([[Name,accuracy,precision,recall,f1_score,roc_auc,cross_val_score_2_fold,cross_val_score_5_fold,cross_val_score_10_fold,cross_val_score_20_fold]], columns=log_cols)\n",
    "        # \n",
    "        log       = log.append(log_entry)\n",
    "        \n",
    "        # Creating DataFrame with  2 Columns , Replacing Numbers with Category, Saving Target Prediction as CSV File with Index :\n",
    "                \n",
    "        df = pd.DataFrame({'Index': y_test.index.tolist(), 'Term_Deposit': y_out})        \n",
    "        df['Term_Deposit'].replace((1, 0), ('yes', 'no'), inplace=True)        \n",
    "        df.to_csv(result_location + \"Term_Deposit_\"+Name+\".csv\", header=['Index','Term Deposit Taken'],index=0)\n",
    "        \n",
    "        # Plotting ROC-AUC using True Positive Rate (Sensitivity) vs False Positive Rate (1 - Specificity) :  \n",
    "        \n",
    "#         if(Name!=\"8. Support Vector Classifier\"):\n",
    "            \n",
    "#             y_pred_proba        = classify.predict_proba(X_test)[::,1]\n",
    "#             fpr, tpr, threshold = m.roc_curve(y_test,  y_pred_proba)\n",
    "\n",
    "#             # First argument is True values, second argument is Predicted Probabilities :\n",
    "\n",
    "#             auc = m.roc_auc_score(y_test, y_pred_proba)\n",
    "\n",
    "#             plt.plot(fpr,tpr,label=\"data 1, AUC=\"+str(auc))\n",
    "#             plt.legend(loc=4)\n",
    "#             plt.xlabel('False Positive Rate (1 - Specificity)')\n",
    "#             plt.ylabel('True Positive Rate (Sensitivity)')\n",
    "#             plt.rcParams['font.size'] = 12        \n",
    "#             plt.plot([0, 1], [0, 1], color='blue', linestyle='--')        \n",
    "#             plt.show()          \n",
    "            \n",
    "            \n",
    "                \n",
    "# Scroll complete output to view all the accuracy scores and bar graph."
   ]
  },
  {
   "cell_type": "code",
   "execution_count": 60,
   "metadata": {},
   "outputs": [
    {
     "name": "stderr",
     "output_type": "stream",
     "text": [
      "No traceback available to show.\n"
     ]
    }
   ],
   "source": [
    "%tb"
   ]
  },
  {
   "cell_type": "code",
   "execution_count": 61,
   "metadata": {},
   "outputs": [
    {
     "data": {
      "text/html": [
       "<div>\n",
       "<style scoped>\n",
       "    .dataframe tbody tr th:only-of-type {\n",
       "        vertical-align: middle;\n",
       "    }\n",
       "\n",
       "    .dataframe tbody tr th {\n",
       "        vertical-align: top;\n",
       "    }\n",
       "\n",
       "    .dataframe thead th {\n",
       "        text-align: right;\n",
       "    }\n",
       "</style>\n",
       "<table border=\"1\" class=\"dataframe\">\n",
       "  <thead>\n",
       "    <tr style=\"text-align: right;\">\n",
       "      <th></th>\n",
       "      <th>Classifier</th>\n",
       "      <th>Accuracy</th>\n",
       "      <th>Precision</th>\n",
       "      <th>Recall</th>\n",
       "      <th>F1</th>\n",
       "      <th>ROC_AUC</th>\n",
       "      <th>CV_2_Fold</th>\n",
       "      <th>CV_5_Fold</th>\n",
       "      <th>CV_10_Fold</th>\n",
       "      <th>CV_20_Fold</th>\n",
       "    </tr>\n",
       "  </thead>\n",
       "  <tbody>\n",
       "    <tr>\n",
       "      <th>0</th>\n",
       "      <td>1. CART Decision Tree Classifier</td>\n",
       "      <td>0.882736</td>\n",
       "      <td>0.571429</td>\n",
       "      <td>0.108108</td>\n",
       "      <td>0.181818</td>\n",
       "      <td>0.730714</td>\n",
       "      <td>0.524252</td>\n",
       "      <td>0.543926</td>\n",
       "      <td>0.548253</td>\n",
       "      <td>0.559511</td>\n",
       "    </tr>\n",
       "    <tr>\n",
       "      <th>0</th>\n",
       "      <td>1. CART Decision Tree Classifier</td>\n",
       "      <td>0.869707</td>\n",
       "      <td>0.000000</td>\n",
       "      <td>0.000000</td>\n",
       "      <td>0.000000</td>\n",
       "      <td>0.439145</td>\n",
       "      <td>0.607566</td>\n",
       "      <td>0.592957</td>\n",
       "      <td>0.563813</td>\n",
       "      <td>0.525151</td>\n",
       "    </tr>\n",
       "    <tr>\n",
       "      <th>0</th>\n",
       "      <td>2. ID3 Decision Tree Classifier</td>\n",
       "      <td>0.882736</td>\n",
       "      <td>0.571429</td>\n",
       "      <td>0.108108</td>\n",
       "      <td>0.181818</td>\n",
       "      <td>0.730714</td>\n",
       "      <td>0.552662</td>\n",
       "      <td>0.550022</td>\n",
       "      <td>0.545875</td>\n",
       "      <td>0.579788</td>\n",
       "    </tr>\n",
       "    <tr>\n",
       "      <th>0</th>\n",
       "      <td>2. ID3 Decision Tree Classifier</td>\n",
       "      <td>0.869707</td>\n",
       "      <td>0.000000</td>\n",
       "      <td>0.000000</td>\n",
       "      <td>0.000000</td>\n",
       "      <td>0.439145</td>\n",
       "      <td>0.619046</td>\n",
       "      <td>0.600850</td>\n",
       "      <td>0.591393</td>\n",
       "      <td>0.522208</td>\n",
       "    </tr>\n",
       "  </tbody>\n",
       "</table>\n",
       "</div>"
      ],
      "text/plain": [
       "                         Classifier  Accuracy  Precision    Recall        F1  \\\n",
       "0  1. CART Decision Tree Classifier  0.882736   0.571429  0.108108  0.181818   \n",
       "0  1. CART Decision Tree Classifier  0.869707   0.000000  0.000000  0.000000   \n",
       "0   2. ID3 Decision Tree Classifier  0.882736   0.571429  0.108108  0.181818   \n",
       "0   2. ID3 Decision Tree Classifier  0.869707   0.000000  0.000000  0.000000   \n",
       "\n",
       "    ROC_AUC  CV_2_Fold  CV_5_Fold  CV_10_Fold  CV_20_Fold  \n",
       "0  0.730714   0.524252   0.543926    0.548253    0.559511  \n",
       "0  0.439145   0.607566   0.592957    0.563813    0.525151  \n",
       "0  0.730714   0.552662   0.550022    0.545875    0.579788  \n",
       "0  0.439145   0.619046   0.600850    0.591393    0.522208  "
      ]
     },
     "execution_count": 61,
     "metadata": {},
     "output_type": "execute_result"
    }
   ],
   "source": [
    "log"
   ]
  },
  {
   "cell_type": "markdown",
   "metadata": {},
   "source": [
    "# 10. Performance Metric using Precision and Recall Calculation along with roc_auc_score & accuracy_score :"
   ]
  },
  {
   "cell_type": "markdown",
   "metadata": {},
   "source": [
    "### 1. Accuracy Score Comparison for All Classification Models :"
   ]
  },
  {
   "cell_type": "code",
   "execution_count": 62,
   "metadata": {},
   "outputs": [
    {
     "data": {
      "image/png": "[encoded data removed]",
      "text/plain": [
       "<Figure size 432x288 with 1 Axes>"
      ]
     },
     "metadata": {},
     "output_type": "display_data"
    }
   ],
   "source": [
    "# Accuracy Score Comparison :\n",
    "\n",
    "plt.xlabel('Accuracy')\n",
    "plt.title('Classifier Accuracy')\n",
    "sns.set_color_codes(\"muted\")\n",
    "sns.barplot(x='Accuracy', y='Classifier', data=log, color=\"r\")  \n",
    "plt.show()"
   ]
  },
  {
   "cell_type": "markdown",
   "metadata": {},
   "source": [
    "### 2. Precision Score Comparison for All Classification Models :"
   ]
  },
  {
   "cell_type": "code",
   "execution_count": 63,
   "metadata": {},
   "outputs": [
    {
     "data": {
      "image/png": "[encoded data removed]",
      "text/plain": [
       "<Figure size 432x288 with 1 Axes>"
      ]
     },
     "metadata": {},
     "output_type": "display_data"
    }
   ],
   "source": [
    "# Precision Score Comparison :\n",
    "\n",
    "plt.xlabel('Precision')\n",
    "plt.title('Classifier Accuracy')\n",
    "sns.set_color_codes(\"muted\")\n",
    "sns.barplot(x='Precision', y='Classifier', data=log, color=\"g\")  \n",
    "plt.show()"
   ]
  },
  {
   "cell_type": "markdown",
   "metadata": {},
   "source": [
    "### 3. Recall Score Comparison for All Classification Models :"
   ]
  },
  {
   "cell_type": "code",
   "execution_count": 64,
   "metadata": {},
   "outputs": [
    {
     "data": {
      "image/png": "[encoded data removed]",
      "text/plain": [
       "<Figure size 432x288 with 1 Axes>"
      ]
     },
     "metadata": {},
     "output_type": "display_data"
    }
   ],
   "source": [
    "# Recall Score Comparison :\n",
    "\n",
    "plt.xlabel('Recall')\n",
    "plt.title('Classifier Accuracy')\n",
    "sns.set_color_codes(\"muted\")\n",
    "sns.barplot(x='Recall', y='Classifier', data=log, color=\"b\")  \n",
    "plt.show()"
   ]
  },
  {
   "cell_type": "markdown",
   "metadata": {},
   "source": [
    "### 4. ROC_AUC Score Comparison for All Classification Models :"
   ]
  },
  {
   "cell_type": "code",
   "execution_count": 65,
   "metadata": {},
   "outputs": [
    {
     "data": {
      "image/png": "[encoded data removed]",
      "text/plain": [
       "<Figure size 432x288 with 1 Axes>"
      ]
     },
     "metadata": {},
     "output_type": "display_data"
    }
   ],
   "source": [
    "# ROC_AUC Score Comparison :\n",
    "\n",
    "plt.xlabel('ROC_AUC')\n",
    "plt.title('Classifier Accuracy')\n",
    "sns.set_color_codes(\"muted\")\n",
    "sns.barplot(x='ROC_AUC', y='Classifier', data=log, color=\"m\")  \n",
    "plt.show()"
   ]
  },
  {
   "cell_type": "markdown",
   "metadata": {},
   "source": [
    "### 5. F1 Score Comparison for All Classification Models :"
   ]
  },
  {
   "cell_type": "code",
   "execution_count": 66,
   "metadata": {},
   "outputs": [
    {
     "data": {
      "image/png": "[encoded data removed]",
      "text/plain": [
       "<Figure size 432x288 with 1 Axes>"
      ]
     },
     "metadata": {},
     "output_type": "display_data"
    }
   ],
   "source": [
    "# F1 Score Comparison :\n",
    "\n",
    "plt.xlabel('F1')\n",
    "plt.title('Classifier Accuracy')\n",
    "sns.set_color_codes(\"muted\")\n",
    "sns.barplot(x='F1', y='Classifier', data=log, color=\"y\")  \n",
    "plt.show()"
   ]
  },
  {
   "cell_type": "markdown",
   "metadata": {},
   "source": [
    "### 6. CV_2_Fold Comparison for All Classification Models :"
   ]
  },
  {
   "cell_type": "code",
   "execution_count": 67,
   "metadata": {},
   "outputs": [
    {
     "data": {
      "image/png": "[encoded data removed]",
      "text/plain": [
       "<Figure size 432x288 with 1 Axes>"
      ]
     },
     "metadata": {},
     "output_type": "display_data"
    }
   ],
   "source": [
    "# CV_2_Fold Comparison :\n",
    "\n",
    "plt.xlabel('CV_2_Fold')\n",
    "plt.title('Classifier Accuracy')\n",
    "sns.set_color_codes(\"muted\")\n",
    "sns.barplot(x='CV_2_Fold', y='Classifier', data=log, color=\"r\")  \n",
    "plt.show()"
   ]
  },
  {
   "cell_type": "markdown",
   "metadata": {},
   "source": [
    "### 7. CV_5_Fold Comparison for All Classification Models :"
   ]
  },
  {
   "cell_type": "code",
   "execution_count": 68,
   "metadata": {},
   "outputs": [
    {
     "data": {
      "image/png": "[encoded data removed]",
      "text/plain": [
       "<Figure size 432x288 with 1 Axes>"
      ]
     },
     "metadata": {},
     "output_type": "display_data"
    }
   ],
   "source": [
    "# CV_5_Fold Comparison :\n",
    "\n",
    "plt.xlabel('CV_5_Fold')\n",
    "plt.title('Classifier Accuracy')\n",
    "sns.set_color_codes(\"muted\")\n",
    "sns.barplot(x='CV_5_Fold', y='Classifier', data=log, color=\"g\")  \n",
    "plt.show()"
   ]
  },
  {
   "cell_type": "markdown",
   "metadata": {},
   "source": [
    "### 8. CV_10_Fold Comparison for All Classification Models :"
   ]
  },
  {
   "cell_type": "code",
   "execution_count": 69,
   "metadata": {},
   "outputs": [
    {
     "data": {
      "image/png": "[encoded data removed]",
      "text/plain": [
       "<Figure size 432x288 with 1 Axes>"
      ]
     },
     "metadata": {},
     "output_type": "display_data"
    }
   ],
   "source": [
    "# CV_10_Fold Comparison :\n",
    "\n",
    "plt.xlabel('CV_10_Fold')\n",
    "plt.title('Classifier Accuracy')\n",
    "sns.set_color_codes(\"muted\")\n",
    "sns.barplot(x='CV_10_Fold', y='Classifier', data=log, color=\"m\")  \n",
    "plt.show()"
   ]
  },
  {
   "cell_type": "markdown",
   "metadata": {},
   "source": [
    "### 9. CV_20_Fold Comparison for All Classification Models :"
   ]
  },
  {
   "cell_type": "code",
   "execution_count": 70,
   "metadata": {},
   "outputs": [
    {
     "data": {
      "image/png": "[encoded data removed]",
      "text/plain": [
       "<Figure size 432x288 with 1 Axes>"
      ]
     },
     "metadata": {},
     "output_type": "display_data"
    }
   ],
   "source": [
    "# CV_20_Fold Comparison :\n",
    "\n",
    "plt.xlabel('CV_20_Fold')\n",
    "plt.title('Classifier Accuracy')\n",
    "sns.set_color_codes(\"muted\")\n",
    "sns.barplot(x='CV_20_Fold', y='Classifier', data=log, color=\"b\")  \n",
    "plt.show()"
   ]
  }
 ],
 "metadata": {
  "kernelspec": {
   "display_name": "Python 3",
   "language": "python",
   "name": "python3"
  },
  "language_info": {
   "codemirror_mode": {
    "name": "ipython",
    "version": 3
   },
   "file_extension": ".py",
   "mimetype": "text/x-python",
   "name": "python",
   "nbconvert_exporter": "python",
   "pygments_lexer": "ipython3",
   "version": "3.7.1"
  }
 },
 "nbformat": 4,
 "nbformat_minor": 2
}
